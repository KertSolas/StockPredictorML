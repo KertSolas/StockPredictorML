{
 "cells": [
  {
   "cell_type": "code",
   "execution_count": 1,
   "id": "54e2be09-442b-4ec7-adab-edd41d7e34a4",
   "metadata": {},
   "outputs": [],
   "source": [
    "import streamlit as st\n",
    "import yfinance as yf\n",
    "import pandas as pd\n",
    "import numpy as np\n",
    "from sklearn.model_selection import train_test_split\n",
    "from sklearn.linear_model import LinearRegression\n",
    "from sklearn.metrics import mean_squared_error\n",
    "import plotly.express as px"
   ]
  },
  {
   "cell_type": "code",
   "execution_count": 2,
   "id": "84fa552f-d047-40f4-9c75-d329bbe97f42",
   "metadata": {},
   "outputs": [],
   "source": [
    "def getStockData(ticker, start_date, end_date):\n",
    "    stock_data = yf.download(ticker, start=start_date, end=end_date)\n",
    "    return stock_data"
   ]
  },
  {
   "cell_type": "code",
   "execution_count": 6,
   "id": "f2b9e201-d712-40bd-b893-616cac29b544",
   "metadata": {},
   "outputs": [
    {
     "name": "stdout",
     "output_type": "stream",
     "text": [
      "[*********************100%%**********************]  1 of 1 completed\n"
     ]
    }
   ],
   "source": [
    "data = getStockData('AAPL', '2012-01-01', '2021-01-01')"
   ]
  },
  {
   "cell_type": "code",
   "execution_count": 16,
   "id": "87d396be-fcbb-4542-a641-3fd0ea5e8cc6",
   "metadata": {},
   "outputs": [],
   "source": [
    "data['Date'] = data.index\n",
    "data['Date'] = data['Date'].astype(np.int64) // 10**9  "
   ]
  },
  {
   "cell_type": "code",
   "execution_count": 17,
   "id": "40549ab8-5d09-4079-b3ff-f30f78bdcf1c",
   "metadata": {},
   "outputs": [],
   "source": [
    "X = data[['Date']]\n",
    "y = data['Close']"
   ]
  },
  {
   "cell_type": "code",
   "execution_count": 18,
   "id": "5e6e9747-8a55-437c-9f9c-c8306b7139d5",
   "metadata": {},
   "outputs": [],
   "source": [
    "X_train, X_test, y_train, y_test = train_test_split(X, y, test_size=0.2, random_state=42)"
   ]
  },
  {
   "cell_type": "code",
   "execution_count": 19,
   "id": "4fb78bc9-9cfc-4b0c-8373-aa081db4f0de",
   "metadata": {},
   "outputs": [
    {
     "data": {
      "text/html": [
       "<style>#sk-container-id-1 {color: black;}#sk-container-id-1 pre{padding: 0;}#sk-container-id-1 div.sk-toggleable {background-color: white;}#sk-container-id-1 label.sk-toggleable__label {cursor: pointer;display: block;width: 100%;margin-bottom: 0;padding: 0.3em;box-sizing: border-box;text-align: center;}#sk-container-id-1 label.sk-toggleable__label-arrow:before {content: \"▸\";float: left;margin-right: 0.25em;color: #696969;}#sk-container-id-1 label.sk-toggleable__label-arrow:hover:before {color: black;}#sk-container-id-1 div.sk-estimator:hover label.sk-toggleable__label-arrow:before {color: black;}#sk-container-id-1 div.sk-toggleable__content {max-height: 0;max-width: 0;overflow: hidden;text-align: left;background-color: #f0f8ff;}#sk-container-id-1 div.sk-toggleable__content pre {margin: 0.2em;color: black;border-radius: 0.25em;background-color: #f0f8ff;}#sk-container-id-1 input.sk-toggleable__control:checked~div.sk-toggleable__content {max-height: 200px;max-width: 100%;overflow: auto;}#sk-container-id-1 input.sk-toggleable__control:checked~label.sk-toggleable__label-arrow:before {content: \"▾\";}#sk-container-id-1 div.sk-estimator input.sk-toggleable__control:checked~label.sk-toggleable__label {background-color: #d4ebff;}#sk-container-id-1 div.sk-label input.sk-toggleable__control:checked~label.sk-toggleable__label {background-color: #d4ebff;}#sk-container-id-1 input.sk-hidden--visually {border: 0;clip: rect(1px 1px 1px 1px);clip: rect(1px, 1px, 1px, 1px);height: 1px;margin: -1px;overflow: hidden;padding: 0;position: absolute;width: 1px;}#sk-container-id-1 div.sk-estimator {font-family: monospace;background-color: #f0f8ff;border: 1px dotted black;border-radius: 0.25em;box-sizing: border-box;margin-bottom: 0.5em;}#sk-container-id-1 div.sk-estimator:hover {background-color: #d4ebff;}#sk-container-id-1 div.sk-parallel-item::after {content: \"\";width: 100%;border-bottom: 1px solid gray;flex-grow: 1;}#sk-container-id-1 div.sk-label:hover label.sk-toggleable__label {background-color: #d4ebff;}#sk-container-id-1 div.sk-serial::before {content: \"\";position: absolute;border-left: 1px solid gray;box-sizing: border-box;top: 0;bottom: 0;left: 50%;z-index: 0;}#sk-container-id-1 div.sk-serial {display: flex;flex-direction: column;align-items: center;background-color: white;padding-right: 0.2em;padding-left: 0.2em;position: relative;}#sk-container-id-1 div.sk-item {position: relative;z-index: 1;}#sk-container-id-1 div.sk-parallel {display: flex;align-items: stretch;justify-content: center;background-color: white;position: relative;}#sk-container-id-1 div.sk-item::before, #sk-container-id-1 div.sk-parallel-item::before {content: \"\";position: absolute;border-left: 1px solid gray;box-sizing: border-box;top: 0;bottom: 0;left: 50%;z-index: -1;}#sk-container-id-1 div.sk-parallel-item {display: flex;flex-direction: column;z-index: 1;position: relative;background-color: white;}#sk-container-id-1 div.sk-parallel-item:first-child::after {align-self: flex-end;width: 50%;}#sk-container-id-1 div.sk-parallel-item:last-child::after {align-self: flex-start;width: 50%;}#sk-container-id-1 div.sk-parallel-item:only-child::after {width: 0;}#sk-container-id-1 div.sk-dashed-wrapped {border: 1px dashed gray;margin: 0 0.4em 0.5em 0.4em;box-sizing: border-box;padding-bottom: 0.4em;background-color: white;}#sk-container-id-1 div.sk-label label {font-family: monospace;font-weight: bold;display: inline-block;line-height: 1.2em;}#sk-container-id-1 div.sk-label-container {text-align: center;}#sk-container-id-1 div.sk-container {/* jupyter's `normalize.less` sets `[hidden] { display: none; }` but bootstrap.min.css set `[hidden] { display: none !important; }` so we also need the `!important` here to be able to override the default hidden behavior on the sphinx rendered scikit-learn.org. See: https://github.com/scikit-learn/scikit-learn/issues/21755 */display: inline-block !important;position: relative;}#sk-container-id-1 div.sk-text-repr-fallback {display: none;}</style><div id=\"sk-container-id-1\" class=\"sk-top-container\"><div class=\"sk-text-repr-fallback\"><pre>LinearRegression()</pre><b>In a Jupyter environment, please rerun this cell to show the HTML representation or trust the notebook. <br />On GitHub, the HTML representation is unable to render, please try loading this page with nbviewer.org.</b></div><div class=\"sk-container\" hidden><div class=\"sk-item\"><div class=\"sk-estimator sk-toggleable\"><input class=\"sk-toggleable__control sk-hidden--visually\" id=\"sk-estimator-id-1\" type=\"checkbox\" checked><label for=\"sk-estimator-id-1\" class=\"sk-toggleable__label sk-toggleable__label-arrow\">LinearRegression</label><div class=\"sk-toggleable__content\"><pre>LinearRegression()</pre></div></div></div></div></div>"
      ],
      "text/plain": [
       "LinearRegression()"
      ]
     },
     "execution_count": 19,
     "metadata": {},
     "output_type": "execute_result"
    }
   ],
   "source": [
    "model = LinearRegression()\n",
    "model.fit(X_train, y_train)"
   ]
  },
  {
   "cell_type": "code",
   "execution_count": 23,
   "id": "501d46e7-c55e-46ca-b5fc-7fba1b599335",
   "metadata": {},
   "outputs": [
    {
     "data": {
      "text/html": [
       "<div>\n",
       "<style scoped>\n",
       "    .dataframe tbody tr th:only-of-type {\n",
       "        vertical-align: middle;\n",
       "    }\n",
       "\n",
       "    .dataframe tbody tr th {\n",
       "        vertical-align: top;\n",
       "    }\n",
       "\n",
       "    .dataframe thead th {\n",
       "        text-align: right;\n",
       "    }\n",
       "</style>\n",
       "<table border=\"1\" class=\"dataframe\">\n",
       "  <thead>\n",
       "    <tr style=\"text-align: right;\">\n",
       "      <th></th>\n",
       "      <th>Open</th>\n",
       "      <th>High</th>\n",
       "      <th>Low</th>\n",
       "      <th>Close</th>\n",
       "      <th>Adj Close</th>\n",
       "      <th>Volume</th>\n",
       "      <th>Date</th>\n",
       "      <th>Predicted_Close</th>\n",
       "      <th>Predicted_Close_Train</th>\n",
       "      <th>Predicted_Close_Test</th>\n",
       "    </tr>\n",
       "    <tr>\n",
       "      <th>Date</th>\n",
       "      <th></th>\n",
       "      <th></th>\n",
       "      <th></th>\n",
       "      <th></th>\n",
       "      <th></th>\n",
       "      <th></th>\n",
       "      <th></th>\n",
       "      <th></th>\n",
       "      <th></th>\n",
       "      <th></th>\n",
       "    </tr>\n",
       "  </thead>\n",
       "  <tbody>\n",
       "    <tr>\n",
       "      <th>2012-01-03</th>\n",
       "      <td>14.621429</td>\n",
       "      <td>14.732143</td>\n",
       "      <td>14.607143</td>\n",
       "      <td>14.686786</td>\n",
       "      <td>12.449688</td>\n",
       "      <td>302220800</td>\n",
       "      <td>1325548800</td>\n",
       "      <td>3.780269</td>\n",
       "      <td>3.780269</td>\n",
       "      <td>NaN</td>\n",
       "    </tr>\n",
       "    <tr>\n",
       "      <th>2012-01-04</th>\n",
       "      <td>14.642857</td>\n",
       "      <td>14.810000</td>\n",
       "      <td>14.617143</td>\n",
       "      <td>14.765714</td>\n",
       "      <td>12.516598</td>\n",
       "      <td>260022000</td>\n",
       "      <td>1325635200</td>\n",
       "      <td>3.801582</td>\n",
       "      <td>3.801582</td>\n",
       "      <td>NaN</td>\n",
       "    </tr>\n",
       "    <tr>\n",
       "      <th>2012-01-05</th>\n",
       "      <td>14.819643</td>\n",
       "      <td>14.948214</td>\n",
       "      <td>14.738214</td>\n",
       "      <td>14.929643</td>\n",
       "      <td>12.655555</td>\n",
       "      <td>271269600</td>\n",
       "      <td>1325721600</td>\n",
       "      <td>3.822894</td>\n",
       "      <td>3.822894</td>\n",
       "      <td>NaN</td>\n",
       "    </tr>\n",
       "    <tr>\n",
       "      <th>2012-01-06</th>\n",
       "      <td>14.991786</td>\n",
       "      <td>15.098214</td>\n",
       "      <td>14.972143</td>\n",
       "      <td>15.085714</td>\n",
       "      <td>12.787853</td>\n",
       "      <td>318292800</td>\n",
       "      <td>1325808000</td>\n",
       "      <td>3.844207</td>\n",
       "      <td>3.844207</td>\n",
       "      <td>NaN</td>\n",
       "    </tr>\n",
       "    <tr>\n",
       "      <th>2012-01-09</th>\n",
       "      <td>15.196429</td>\n",
       "      <td>15.276786</td>\n",
       "      <td>15.048214</td>\n",
       "      <td>15.061786</td>\n",
       "      <td>12.767569</td>\n",
       "      <td>394024400</td>\n",
       "      <td>1326067200</td>\n",
       "      <td>3.908144</td>\n",
       "      <td>3.908144</td>\n",
       "      <td>NaN</td>\n",
       "    </tr>\n",
       "    <tr>\n",
       "      <th>...</th>\n",
       "      <td>...</td>\n",
       "      <td>...</td>\n",
       "      <td>...</td>\n",
       "      <td>...</td>\n",
       "      <td>...</td>\n",
       "      <td>...</td>\n",
       "      <td>...</td>\n",
       "      <td>...</td>\n",
       "      <td>...</td>\n",
       "      <td>...</td>\n",
       "    </tr>\n",
       "    <tr>\n",
       "      <th>2020-12-24</th>\n",
       "      <td>131.320007</td>\n",
       "      <td>133.460007</td>\n",
       "      <td>131.100006</td>\n",
       "      <td>131.970001</td>\n",
       "      <td>129.679718</td>\n",
       "      <td>54930100</td>\n",
       "      <td>1608768000</td>\n",
       "      <td>73.642821</td>\n",
       "      <td>NaN</td>\n",
       "      <td>73.642821</td>\n",
       "    </tr>\n",
       "    <tr>\n",
       "      <th>2020-12-28</th>\n",
       "      <td>133.990005</td>\n",
       "      <td>137.339996</td>\n",
       "      <td>133.509995</td>\n",
       "      <td>136.690002</td>\n",
       "      <td>134.317810</td>\n",
       "      <td>124486200</td>\n",
       "      <td>1609113600</td>\n",
       "      <td>73.728071</td>\n",
       "      <td>73.728071</td>\n",
       "      <td>NaN</td>\n",
       "    </tr>\n",
       "    <tr>\n",
       "      <th>2020-12-29</th>\n",
       "      <td>138.050003</td>\n",
       "      <td>138.789993</td>\n",
       "      <td>134.339996</td>\n",
       "      <td>134.869995</td>\n",
       "      <td>132.529388</td>\n",
       "      <td>121047300</td>\n",
       "      <td>1609200000</td>\n",
       "      <td>73.749384</td>\n",
       "      <td>NaN</td>\n",
       "      <td>73.749384</td>\n",
       "    </tr>\n",
       "    <tr>\n",
       "      <th>2020-12-30</th>\n",
       "      <td>135.580002</td>\n",
       "      <td>135.990005</td>\n",
       "      <td>133.399994</td>\n",
       "      <td>133.720001</td>\n",
       "      <td>131.399384</td>\n",
       "      <td>96452100</td>\n",
       "      <td>1609286400</td>\n",
       "      <td>73.770696</td>\n",
       "      <td>NaN</td>\n",
       "      <td>73.770696</td>\n",
       "    </tr>\n",
       "    <tr>\n",
       "      <th>2020-12-31</th>\n",
       "      <td>134.080002</td>\n",
       "      <td>134.740005</td>\n",
       "      <td>131.720001</td>\n",
       "      <td>132.690002</td>\n",
       "      <td>130.387222</td>\n",
       "      <td>99116600</td>\n",
       "      <td>1609372800</td>\n",
       "      <td>73.792009</td>\n",
       "      <td>73.792009</td>\n",
       "      <td>NaN</td>\n",
       "    </tr>\n",
       "  </tbody>\n",
       "</table>\n",
       "<p>2265 rows × 10 columns</p>\n",
       "</div>"
      ],
      "text/plain": [
       "                  Open        High         Low       Close   Adj Close  \\\n",
       "Date                                                                     \n",
       "2012-01-03   14.621429   14.732143   14.607143   14.686786   12.449688   \n",
       "2012-01-04   14.642857   14.810000   14.617143   14.765714   12.516598   \n",
       "2012-01-05   14.819643   14.948214   14.738214   14.929643   12.655555   \n",
       "2012-01-06   14.991786   15.098214   14.972143   15.085714   12.787853   \n",
       "2012-01-09   15.196429   15.276786   15.048214   15.061786   12.767569   \n",
       "...                ...         ...         ...         ...         ...   \n",
       "2020-12-24  131.320007  133.460007  131.100006  131.970001  129.679718   \n",
       "2020-12-28  133.990005  137.339996  133.509995  136.690002  134.317810   \n",
       "2020-12-29  138.050003  138.789993  134.339996  134.869995  132.529388   \n",
       "2020-12-30  135.580002  135.990005  133.399994  133.720001  131.399384   \n",
       "2020-12-31  134.080002  134.740005  131.720001  132.690002  130.387222   \n",
       "\n",
       "               Volume        Date  Predicted_Close  Predicted_Close_Train  \\\n",
       "Date                                                                        \n",
       "2012-01-03  302220800  1325548800         3.780269               3.780269   \n",
       "2012-01-04  260022000  1325635200         3.801582               3.801582   \n",
       "2012-01-05  271269600  1325721600         3.822894               3.822894   \n",
       "2012-01-06  318292800  1325808000         3.844207               3.844207   \n",
       "2012-01-09  394024400  1326067200         3.908144               3.908144   \n",
       "...               ...         ...              ...                    ...   \n",
       "2020-12-24   54930100  1608768000        73.642821                    NaN   \n",
       "2020-12-28  124486200  1609113600        73.728071              73.728071   \n",
       "2020-12-29  121047300  1609200000        73.749384                    NaN   \n",
       "2020-12-30   96452100  1609286400        73.770696                    NaN   \n",
       "2020-12-31   99116600  1609372800        73.792009              73.792009   \n",
       "\n",
       "            Predicted_Close_Test  \n",
       "Date                              \n",
       "2012-01-03                   NaN  \n",
       "2012-01-04                   NaN  \n",
       "2012-01-05                   NaN  \n",
       "2012-01-06                   NaN  \n",
       "2012-01-09                   NaN  \n",
       "...                          ...  \n",
       "2020-12-24             73.642821  \n",
       "2020-12-28                   NaN  \n",
       "2020-12-29             73.749384  \n",
       "2020-12-30             73.770696  \n",
       "2020-12-31                   NaN  \n",
       "\n",
       "[2265 rows x 10 columns]"
      ]
     },
     "execution_count": 23,
     "metadata": {},
     "output_type": "execute_result"
    }
   ],
   "source": [
    "data['Predicted_Close'] = model.predict(X)\n",
    "data.loc[X_train.index, 'Predicted_Close_Train'] = model.predict(X_train)\n",
    "data.loc[X_test.index, 'Predicted_Close_Test'] = model.predict(X_test)"
   ]
  },
  {
   "cell_type": "code",
   "execution_count": 25,
   "id": "f9acaccc-4d29-4753-bfac-a321064d9a7a",
   "metadata": {},
   "outputs": [
    {
     "name": "stdout",
     "output_type": "stream",
     "text": [
      "Train: 186.74333072583875, Test: 195.21196354574982\n"
     ]
    }
   ],
   "source": [
    "mse_train = mean_squared_error(y_train, data.loc[X_train.index, 'Predicted_Close_Train'])\n",
    "mse_test = mean_squared_error(y_test, data.loc[X_test.index, 'Predicted_Close_Test'])\n",
    "print(f\"Train: {mse_train}, Test: {mse_test}\")"
   ]
  },
  {
   "cell_type": "code",
   "execution_count": null,
   "id": "d1cb81be-d3ca-403c-a740-979887116dcd",
   "metadata": {},
   "outputs": [],
   "source": []
  }
 ],
 "metadata": {
  "kernelspec": {
   "display_name": "Python 3 (ipykernel)",
   "language": "python",
   "name": "python3"
  },
  "language_info": {
   "codemirror_mode": {
    "name": "ipython",
    "version": 3
   },
   "file_extension": ".py",
   "mimetype": "text/x-python",
   "name": "python",
   "nbconvert_exporter": "python",
   "pygments_lexer": "ipython3",
   "version": "3.11.5"
  }
 },
 "nbformat": 4,
 "nbformat_minor": 5
}
